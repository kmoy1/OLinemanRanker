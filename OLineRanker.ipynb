{
 "cells": [
  {
   "cell_type": "markdown",
   "metadata": {},
   "source": [
    "# Offensive LineRanker\n",
    "\n",
    "Author: Kevin Moy"
   ]
  },
  {
   "cell_type": "markdown",
   "metadata": {},
   "source": [
    "One of the most underrated aspects of gridiron football today are the big men in the trenches- in particular, the offensive linemen. For the casual fan, the offensive line is the line of five players on offense we see who block defenders trying to tackle the person with the football. It is certainly true that a good offensive line is never appreciated until a team doesn't have one.\n",
    "\n",
    "This project aims to create an efficient power ranking system for a team's offensive line, utilizing multiple linear regression as well as statistics such as run blocking, pass blocking, and number of penalties. The primary job of an offensive line is to prevent sacks and tackles for loss; these will be the TWO dependent variables we attempt to predict. The team that *minimizes* these predictions is considered to have the strongest offensive line.\n",
    "\n",
    "The goal of this project is to establish a multiple-linear **model**, i.e. what constant values form the weights of our statistics. Formally, we want to find all $c_i$ such that for each offensive-line characteristic $x_i$\n",
    "\n",
    "$$f(x) = c_1x_1 + c_2x_2 + ... + c_nx_n$$\n",
    "\n",
    "gives us an \"overall strength\" prediction, relative to all other 31 teams in the NFL. $x = [x_1, x_2, ., x_n]$ represents an input vector of $n$ indepedent variable inputs for a single team, and $f(x)$ is our dependent variable: our ranking output. Once all outputs have been processed for all 32 teams, we simply sort our outputs and give each team's power ranking with each team's output rank. When we have finalized $c_i$ for all $i$, we have formulated our model. Of course, because we have two dependent variables, we'll have to repeat this process twice. "
   ]
  },
  {
   "cell_type": "markdown",
   "metadata": {},
   "source": []
  },
  {
   "cell_type": "markdown",
   "metadata": {},
   "source": []
  },
  {
   "cell_type": "markdown",
   "metadata": {},
   "source": []
  }
 ],
 "metadata": {
  "kernelspec": {
   "display_name": "Python 3",
   "language": "python",
   "name": "python3"
  },
  "language_info": {
   "codemirror_mode": {
    "name": "ipython",
    "version": 3
   },
   "file_extension": ".py",
   "mimetype": "text/x-python",
   "name": "python",
   "nbconvert_exporter": "python",
   "pygments_lexer": "ipython3",
   "version": "3.7.4"
  }
 },
 "nbformat": 4,
 "nbformat_minor": 2
}
